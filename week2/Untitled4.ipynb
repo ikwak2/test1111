{
  "nbformat": 4,
  "nbformat_minor": 0,
  "metadata": {
    "colab": {
      "provenance": [],
      "mount_file_id": "1-K12cvbINrcpCT6w-2F3BJaW2wqjpj1v",
      "authorship_tag": "ABX9TyMtVl/flQECxhOU+Rch2bEa",
      "include_colab_link": true
    },
    "kernelspec": {
      "name": "python3",
      "display_name": "Python 3"
    },
    "language_info": {
      "name": "python"
    }
  },
  "cells": [
    {
      "cell_type": "markdown",
      "metadata": {
        "id": "view-in-github",
        "colab_type": "text"
      },
      "source": [
        "<a href=\"https://colab.research.google.com/github/ikwak2/test1111/blob/main/week2/Untitled4.ipynb\" target=\"_parent\"><img src=\"https://colab.research.google.com/assets/colab-badge.svg\" alt=\"Open In Colab\"/></a>"
      ]
    },
    {
      "cell_type": "code",
      "execution_count": 6,
      "metadata": {
        "colab": {
          "base_uri": "https://localhost:8080/"
        },
        "id": "wFPufSg_2nSY",
        "outputId": "6ac45809-4ee9-48b0-cfe3-5c8e7e416593"
      },
      "outputs": [
        {
          "output_type": "stream",
          "name": "stdout",
          "text": [
            "[Errno 2] No such file or directory: 'drive/MyDrive/'\n",
            "/content/drive/MyDrive\n"
          ]
        }
      ],
      "source": [
        "cd drive/MyDrive/"
      ]
    },
    {
      "cell_type": "code",
      "source": [
        "!git clone https://github.com/stefmolin/Hands-On-Data-Analysis-with-Pandas-2nd-edition.git"
      ],
      "metadata": {
        "colab": {
          "base_uri": "https://localhost:8080/"
        },
        "id": "qyAMCtsp2-8e",
        "outputId": "b04cdf22-5627-455f-9989-f4c274c1dab7"
      },
      "execution_count": 8,
      "outputs": [
        {
          "output_type": "stream",
          "name": "stdout",
          "text": [
            "Cloning into 'Hands-On-Data-Analysis-with-Pandas-2nd-edition'...\n",
            "remote: Enumerating objects: 3310, done.\u001b[K\n",
            "remote: Counting objects: 100% (3310/3310), done.\u001b[K\n",
            "remote: Compressing objects: 100% (1191/1191), done.\u001b[K\n",
            "remote: Total 3310 (delta 2065), reused 3263 (delta 2056), pack-reused 0\u001b[K\n",
            "Receiving objects: 100% (3310/3310), 74.09 MiB | 15.65 MiB/s, done.\n",
            "Resolving deltas: 100% (2065/2065), done.\n",
            "Checking out files: 100% (216/216), done.\n"
          ]
        }
      ]
    },
    {
      "cell_type": "code",
      "source": [
        "!pwd"
      ],
      "metadata": {
        "colab": {
          "base_uri": "https://localhost:8080/"
        },
        "id": "q9twlBWU3G2V",
        "outputId": "8671c8c1-3118-4ced-f6f6-80822b243f19"
      },
      "execution_count": 3,
      "outputs": [
        {
          "output_type": "stream",
          "name": "stdout",
          "text": [
            "/content\n"
          ]
        }
      ]
    },
    {
      "cell_type": "code",
      "source": [
        "cd /content/drive/MyDrive"
      ],
      "metadata": {
        "colab": {
          "base_uri": "https://localhost:8080/"
        },
        "id": "LYReDotv4Xsn",
        "outputId": "311eaafb-306c-49e0-b5e7-5a53d2430632"
      },
      "execution_count": 7,
      "outputs": [
        {
          "output_type": "stream",
          "name": "stdout",
          "text": [
            "/content/drive/MyDrive\n"
          ]
        }
      ]
    },
    {
      "cell_type": "code",
      "source": [
        "import sys\n",
        "sys.path.append('/content/drive/MyDrive/Hands-On-Data-Analysis-with-Pandas-2nd-edition/visual-aids/')\n",
        "\n",
        "from visual_aids import stats_viz"
      ],
      "metadata": {
        "id": "K58pPerL4bgu"
      },
      "execution_count": 9,
      "outputs": []
    },
    {
      "cell_type": "code",
      "source": [],
      "metadata": {
        "id": "PcwEw3j24rkG"
      },
      "execution_count": null,
      "outputs": []
    }
  ]
}